{
 "cells": [
  {
   "cell_type": "markdown",
   "metadata": {},
   "source": [
    "# Chapter 3"
   ]
  },
  {
   "cell_type": "code",
   "execution_count": null,
   "metadata": {},
   "outputs": [],
   "source": [
    "# The last printed expression is assigned to the variable _. ex: \n",
    "# this is not working. It only works in interactive mode (not in jupyter notebook, or poweshell)\n",
    "\n",
    "#However, _ can be used as a variable\n",
    "tax = 12.5 / 100\n",
    "price = 100.50\n",
    "_ = price * tax\n",
    "#12.5625\n",
    "price + _\n",
    "#113.0625\n",
    "round(_, 2)\n",
    "#113.06"
   ]
  },
  {
   "cell_type": "code",
   "execution_count": null,
   "metadata": {},
   "outputs": [],
   "source": [
    "# Python also has built-in support for complex numbers, and uses the j or J suffix to indicate the imaginary part\n",
    "print(complex('3+3j'))"
   ]
  },
  {
   "cell_type": "code",
   "execution_count": null,
   "metadata": {},
   "outputs": [],
   "source": [
    "# If you don’t want characters prefaced by \\ to be interpreted as special characters, you can use raw strings by adding an r before the first quote:\n",
    "print('C:\\some\\name')  # here \\n means newline!\n",
    "print(r'C:\\some\\name')  # note the r before the quote"
   ]
  },
  {
   "cell_type": "code",
   "execution_count": null,
   "metadata": {},
   "outputs": [],
   "source": [
    "# different ways of printing\n",
    "print('{}'.format(_))\n",
    "print(f'{_}')"
   ]
  },
  {
   "cell_type": "code",
   "execution_count": null,
   "metadata": {},
   "outputs": [],
   "source": [
    "# Two or more string literals (i.e. the ones enclosed between quotes) next to each other are automatically concatenated\n",
    "print('ab' 'ab' 'ab')\n",
    "\n",
    "prefix = 'Py'\n",
    "prefix 'thon'  # can't concatenate a variable and a string literal"
   ]
  },
  {
   "cell_type": "code",
   "execution_count": null,
   "metadata": {},
   "outputs": [],
   "source": [
    "word = 'python'\n",
    "# word[23] # error\n",
    "print(word[2:23]) # no error\n",
    "print(word[23:])"
   ]
  },
  {
   "cell_type": "code",
   "execution_count": 1,
   "metadata": {},
   "outputs": [
    {
     "name": "stdout",
     "output_type": "stream",
     "text": [
      "the file name is:  ['c:\\\\python\\\\lib\\\\site-packages\\\\ipykernel_launcher.py', '-f', 'C:\\\\Users\\\\Dhiraj\\\\AppData\\\\Roaming\\\\jupyter\\\\runtime\\\\kernel-9aada311-052e-4419-ab73-c2038f88a25e.json']\n"
     ]
    }
   ],
   "source": [
    "from sys import argv #argv stands for \"argment variable\"\n",
    "filename = argv\n",
    "print(\"the file name is: \", filename)\n",
    "# if we run this piece of code in command line filename will be the name of the file\n",
    "\n",
    "# we can do something like this as well: filename, second = argv\n",
    "# here second will be the second argument we pass in the command line, for example: >>> python example.py second_argument\n",
    "# then our output will be (first)'example.py' (second)'second_argument'"
   ]
  },
  {
   "cell_type": "code",
   "execution_count": null,
   "metadata": {},
   "outputs": [],
   "source": [
    "# don't run this in jupyter notebook\n",
    "from sys import argv\n",
    "script, filename = argv\n",
    "txt = open(filename) #open function make file object which is not same as file itself.\n",
    "# Open file and return a corresponding file object.\n",
    "# file is a path-like object giving the pathname of the file to be opened or an integer file descriptor of the file to be wrapped.\n",
    "print(f\"here's your file {filename}\")\n",
    "print(txt.read())\n",
    "print(\"type the filename again:\")\n",
    "file_again = input(\"> \")\n",
    "txt_again = open(file_again)\n",
    "print(txt_again.read())\n",
    "# the line above and below give the same output.\n",
    "with open(filename) as f:\n",
    "    print(f.read())"
   ]
  },
  {
   "cell_type": "code",
   "execution_count": 6,
   "metadata": {},
   "outputs": [
    {
     "name": "stdout",
     "output_type": "stream",
     "text": [
      "\n",
      "This is third line.od luck.\n",
      "This is the second line. go get it.\n"
     ]
    }
   ],
   "source": [
    "txt = open('C:/Users/Dhiraj/Desktop/Python/hard_way_book/test.txt')\n",
    "content = txt.read()\n",
    "print(content, end='')\n",
    "\n",
    "# to write into the file we have to open it in append mode (mode = 'a') or write (as well truncate) mode (mode = 'w').\n",
    "# don't forget to close the file when the work is done\n",
    "\n",
    "# seek function allows us to move within the file. after reading a file, pointer moves to the end of the file. In order to move \n",
    "# it back to the beginning we can use seek(txt.seek(0)) where 0: beginning, 1: current location , and 2: end"
   ]
  },
  {
   "cell_type": "code",
   "execution_count": null,
   "metadata": {},
   "outputs": [],
   "source": []
  }
 ],
 "metadata": {
  "kernelspec": {
   "display_name": "Python 3",
   "language": "python",
   "name": "python3"
  },
  "language_info": {
   "codemirror_mode": {
    "name": "ipython",
    "version": 3
   },
   "file_extension": ".py",
   "mimetype": "text/x-python",
   "name": "python",
   "nbconvert_exporter": "python",
   "pygments_lexer": "ipython3",
   "version": "3.6.5"
  }
 },
 "nbformat": 4,
 "nbformat_minor": 2
}
